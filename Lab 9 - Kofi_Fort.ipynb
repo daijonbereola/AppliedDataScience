{
 "cells": [
  {
   "cell_type": "markdown",
   "metadata": {
    "_kg_hide-input": true,
    "_kg_hide-output": true,
    "cell_id": "5ba6e568-cfda-4b16-8d01-3556c9ede91b",
    "output_cleared": false
   },
   "source": [
    "# Data Munging Part II - Filtering and Joining Datasets\n",
    "This lab was adapted from # Glassdoor Jobs Data-Analysis \n",
    "https://github.com/Atharva-Phatak/Glassdoor-Jobs_Data-Analysis\n",
    "\n",
    "In Data Munging Part I we learned how to explore our data and clean it up so that missing values are removed.\n",
    "\n",
    "In this Data Munging Part II lab, we are going to learn how to:\n",
    "1. Filter our Data\n",
    "2. Sort Data \n",
    "3. Merge/Concatenate Data Sources"
   ]
  },
  {
   "cell_type": "markdown",
   "metadata": {},
   "source": [
    "Recall that the point of data munging is to `wrangle` multiple data sources so that you can begin to perform data analysis on the data that you were given or scraped from the web. \n",
    "\n",
    "In most cases you are given a dataset and you must supplement your dataset with sources from web."
   ]
  },
  {
   "cell_type": "markdown",
   "metadata": {},
   "source": [
    "In this lab we will perform analysis of Glassdoor data\n",
    "\n",
    "## About Glassdoor\n",
    "\n",
    "![glass](https://upload.wikimedia.org/wikipedia/commons/e/e1/Glassdoor_logo.svg)\n",
    "\n",
    "\"Glassdoor is one of the world’s largest job and recruiting sites.\n",
    "\n",
    "Built on the foundation of increasing workplace transparency, Glassdoor offers millions of the latest job listings, combined with a growing database of company reviews, CEO approval ratings, salary reports, interview reviews and questions, benefits reviews, office photos and more. Unlike other job sites, all of this information is shared by those who know a company best — the employees. In turn, job seekers on Glassdoor are well-researched and more informed about the jobs and companies they apply to and consider joining. This is why thousands of employers across all industries and sizes turn to Glassdoor to help them recruit and hire quality candidates at scale who stay longer. Glassdoor is available anywhere via its mobile apps.\""
   ]
  },
  {
   "cell_type": "code",
   "execution_count": null,
   "metadata": {},
   "outputs": [],
   "source": [
    "# Importing Libraries"
   ]
  },
  {
   "cell_type": "markdown",
   "metadata": {},
   "source": [
    "## Q1. Write the code to import the pandas, numpy, and matplotlib.pyplot libraries"
   ]
  },
  {
   "cell_type": "code",
   "execution_count": 77,
   "metadata": {},
   "outputs": [
    {
     "name": "stdout",
     "output_type": "stream",
     "text": [
      "Requirement already satisfied: datascience in /opt/conda/lib/python3.8/site-packages (0.17.0)\n",
      "Requirement already satisfied: setuptools in /opt/conda/lib/python3.8/site-packages (from datascience) (49.6.0.post20201009)\n",
      "Requirement already satisfied: bokeh in /opt/conda/lib/python3.8/site-packages (from datascience) (2.2.2)\n",
      "Requirement already satisfied: matplotlib>=3.0.0 in /opt/conda/lib/python3.8/site-packages (from datascience) (3.3.2)\n",
      "Requirement already satisfied: sphinx in /opt/conda/lib/python3.8/site-packages (from datascience) (3.2.1)\n",
      "Requirement already satisfied: ipython in /opt/conda/lib/python3.8/site-packages (from datascience) (7.18.1)\n",
      "Requirement already satisfied: plotly in /opt/conda/lib/python3.8/site-packages (from datascience) (4.11.0)\n",
      "Requirement already satisfied: scipy in /opt/conda/lib/python3.8/site-packages (from datascience) (1.5.2)\n",
      "Requirement already satisfied: branca in /opt/conda/lib/python3.8/site-packages (from datascience) (0.4.1)\n",
      "Requirement already satisfied: coverage in /opt/conda/lib/python3.8/site-packages (from datascience) (5.3)\n",
      "Requirement already satisfied: pytest in /opt/conda/lib/python3.8/site-packages (from datascience) (6.1.1)\n",
      "Requirement already satisfied: coveralls in /opt/conda/lib/python3.8/site-packages (from datascience) (2.1.2)\n",
      "Requirement already satisfied: numpy in /opt/conda/lib/python3.8/site-packages (from datascience) (1.19.2)\n",
      "Requirement already satisfied: folium>=0.9.1 in /opt/conda/lib/python3.8/site-packages (from datascience) (0.11.0)\n",
      "Requirement already satisfied: pandas in /opt/conda/lib/python3.8/site-packages (from datascience) (1.1.3)\n",
      "Requirement already satisfied: nbsphinx in /opt/conda/lib/python3.8/site-packages (from datascience) (0.7.1)\n",
      "Requirement already satisfied: Jinja2>=2.7 in /opt/conda/lib/python3.8/site-packages (from bokeh->datascience) (2.11.2)\n",
      "Requirement already satisfied: pillow>=7.1.0 in /opt/conda/lib/python3.8/site-packages (from bokeh->datascience) (8.0.0)\n",
      "Requirement already satisfied: packaging>=16.8 in /opt/conda/lib/python3.8/site-packages (from bokeh->datascience) (20.4)\n",
      "Requirement already satisfied: typing-extensions>=3.7.4 in /opt/conda/lib/python3.8/site-packages (from bokeh->datascience) (3.7.4.3)\n",
      "Requirement already satisfied: tornado>=5.1 in /opt/conda/lib/python3.8/site-packages (from bokeh->datascience) (6.0.4)\n",
      "Requirement already satisfied: PyYAML>=3.10 in /opt/conda/lib/python3.8/site-packages (from bokeh->datascience) (5.3.1)\n",
      "Requirement already satisfied: python-dateutil>=2.1 in /opt/conda/lib/python3.8/site-packages (from bokeh->datascience) (2.8.1)\n",
      "Requirement already satisfied: certifi>=2020.06.20 in /opt/conda/lib/python3.8/site-packages (from matplotlib>=3.0.0->datascience) (2020.6.20)\n",
      "Requirement already satisfied: pyparsing!=2.0.4,!=2.1.2,!=2.1.6,>=2.0.3 in /opt/conda/lib/python3.8/site-packages (from matplotlib>=3.0.0->datascience) (2.4.7)\n",
      "Requirement already satisfied: kiwisolver>=1.0.1 in /opt/conda/lib/python3.8/site-packages (from matplotlib>=3.0.0->datascience) (1.2.0)\n",
      "Requirement already satisfied: cycler>=0.10 in /opt/conda/lib/python3.8/site-packages (from matplotlib>=3.0.0->datascience) (0.10.0)\n",
      "Requirement already satisfied: docutils>=0.12 in /opt/conda/lib/python3.8/site-packages (from sphinx->datascience) (0.16)\n",
      "Requirement already satisfied: alabaster<0.8,>=0.7 in /opt/conda/lib/python3.8/site-packages (from sphinx->datascience) (0.7.12)\n",
      "Requirement already satisfied: sphinxcontrib-htmlhelp in /opt/conda/lib/python3.8/site-packages (from sphinx->datascience) (1.0.3)\n",
      "Requirement already satisfied: sphinxcontrib-serializinghtml in /opt/conda/lib/python3.8/site-packages (from sphinx->datascience) (1.1.4)\n",
      "Requirement already satisfied: sphinxcontrib-jsmath in /opt/conda/lib/python3.8/site-packages (from sphinx->datascience) (1.0.1)\n",
      "Requirement already satisfied: sphinxcontrib-devhelp in /opt/conda/lib/python3.8/site-packages (from sphinx->datascience) (1.0.2)\n",
      "Requirement already satisfied: Pygments>=2.0 in /opt/conda/lib/python3.8/site-packages (from sphinx->datascience) (2.7.1)\n",
      "Requirement already satisfied: requests>=2.5.0 in /opt/conda/lib/python3.8/site-packages (from sphinx->datascience) (2.24.0)\n",
      "Requirement already satisfied: sphinxcontrib-applehelp in /opt/conda/lib/python3.8/site-packages (from sphinx->datascience) (1.0.2)\n",
      "Requirement already satisfied: snowballstemmer>=1.1 in /opt/conda/lib/python3.8/site-packages (from sphinx->datascience) (2.0.0)\n",
      "Requirement already satisfied: babel>=1.3 in /opt/conda/lib/python3.8/site-packages (from sphinx->datascience) (2.8.0)\n",
      "Requirement already satisfied: imagesize in /opt/conda/lib/python3.8/site-packages (from sphinx->datascience) (1.2.0)\n",
      "Requirement already satisfied: sphinxcontrib-qthelp in /opt/conda/lib/python3.8/site-packages (from sphinx->datascience) (1.0.3)\n",
      "Requirement already satisfied: jedi>=0.10 in /opt/conda/lib/python3.8/site-packages (from ipython->datascience) (0.17.2)\n",
      "Requirement already satisfied: traitlets>=4.2 in /opt/conda/lib/python3.8/site-packages (from ipython->datascience) (4.3.3)\n",
      "Requirement already satisfied: backcall in /opt/conda/lib/python3.8/site-packages (from ipython->datascience) (0.2.0)\n",
      "Requirement already satisfied: prompt-toolkit!=3.0.0,!=3.0.1,<3.1.0,>=2.0.0 in /opt/conda/lib/python3.8/site-packages (from ipython->datascience) (3.0.8)\n",
      "Requirement already satisfied: pexpect>4.3; sys_platform != \"win32\" in /opt/conda/lib/python3.8/site-packages (from ipython->datascience) (4.8.0)\n",
      "Requirement already satisfied: decorator in /opt/conda/lib/python3.8/site-packages (from ipython->datascience) (4.4.2)\n",
      "Requirement already satisfied: pickleshare in /opt/conda/lib/python3.8/site-packages (from ipython->datascience) (0.7.5)\n",
      "Requirement already satisfied: six in /opt/conda/lib/python3.8/site-packages (from plotly->datascience) (1.15.0)\n",
      "Requirement already satisfied: retrying>=1.3.3 in /opt/conda/lib/python3.8/site-packages (from plotly->datascience) (1.3.3)\n",
      "Requirement already satisfied: pluggy<1.0,>=0.12 in /opt/conda/lib/python3.8/site-packages (from pytest->datascience) (0.13.1)\n",
      "Requirement already satisfied: attrs>=17.4.0 in /opt/conda/lib/python3.8/site-packages (from pytest->datascience) (20.2.0)\n",
      "Requirement already satisfied: iniconfig in /opt/conda/lib/python3.8/site-packages (from pytest->datascience) (1.1.1)\n",
      "Requirement already satisfied: toml in /opt/conda/lib/python3.8/site-packages (from pytest->datascience) (0.10.1)\n",
      "Requirement already satisfied: py>=1.8.2 in /opt/conda/lib/python3.8/site-packages (from pytest->datascience) (1.9.0)\n",
      "Requirement already satisfied: docopt>=0.6.1 in /opt/conda/lib/python3.8/site-packages (from coveralls->datascience) (0.6.2)\n",
      "Requirement already satisfied: pytz>=2017.2 in /opt/conda/lib/python3.8/site-packages (from pandas->datascience) (2020.1)\n",
      "Requirement already satisfied: nbformat in /opt/conda/lib/python3.8/site-packages (from nbsphinx->datascience) (4.4.0)\n",
      "Requirement already satisfied: nbconvert!=5.4 in /opt/conda/lib/python3.8/site-packages (from nbsphinx->datascience) (5.6.1)\n",
      "Requirement already satisfied: MarkupSafe>=0.23 in /opt/conda/lib/python3.8/site-packages (from Jinja2>=2.7->bokeh->datascience) (1.1.1)\n",
      "Requirement already satisfied: chardet<4,>=3.0.2 in /opt/conda/lib/python3.8/site-packages (from requests>=2.5.0->sphinx->datascience) (3.0.4)\n",
      "Requirement already satisfied: urllib3!=1.25.0,!=1.25.1,<1.26,>=1.21.1 in /opt/conda/lib/python3.8/site-packages (from requests>=2.5.0->sphinx->datascience) (1.25.10)\n",
      "Requirement already satisfied: idna<3,>=2.5 in /opt/conda/lib/python3.8/site-packages (from requests>=2.5.0->sphinx->datascience) (2.10)\n",
      "Requirement already satisfied: parso<0.8.0,>=0.7.0 in /opt/conda/lib/python3.8/site-packages (from jedi>=0.10->ipython->datascience) (0.7.1)\n",
      "Requirement already satisfied: ipython-genutils in /opt/conda/lib/python3.8/site-packages (from traitlets>=4.2->ipython->datascience) (0.2.0)\n",
      "Requirement already satisfied: wcwidth in /opt/conda/lib/python3.8/site-packages (from prompt-toolkit!=3.0.0,!=3.0.1,<3.1.0,>=2.0.0->ipython->datascience) (0.2.5)\n",
      "Requirement already satisfied: ptyprocess>=0.5 in /opt/conda/lib/python3.8/site-packages (from pexpect>4.3; sys_platform != \"win32\"->ipython->datascience) (0.6.0)\n",
      "Requirement already satisfied: jsonschema!=2.5.0,>=2.4 in /opt/conda/lib/python3.8/site-packages (from nbformat->nbsphinx->datascience) (3.2.0)\n",
      "Requirement already satisfied: jupyter-core in /opt/conda/lib/python3.8/site-packages (from nbformat->nbsphinx->datascience) (4.6.3)\n",
      "Requirement already satisfied: entrypoints>=0.2.2 in /opt/conda/lib/python3.8/site-packages (from nbconvert!=5.4->nbsphinx->datascience) (0.3)\n",
      "Requirement already satisfied: defusedxml in /opt/conda/lib/python3.8/site-packages (from nbconvert!=5.4->nbsphinx->datascience) (0.6.0)\n",
      "Requirement already satisfied: bleach in /opt/conda/lib/python3.8/site-packages (from nbconvert!=5.4->nbsphinx->datascience) (3.2.1)\n",
      "Requirement already satisfied: testpath in /opt/conda/lib/python3.8/site-packages (from nbconvert!=5.4->nbsphinx->datascience) (0.4.4)\r\n",
      "Requirement already satisfied: pandocfilters>=1.4.1 in /opt/conda/lib/python3.8/site-packages (from nbconvert!=5.4->nbsphinx->datascience) (1.4.2)\r\n",
      "Requirement already satisfied: mistune<2,>=0.8.1 in /opt/conda/lib/python3.8/site-packages (from nbconvert!=5.4->nbsphinx->datascience) (0.8.4)\r\n",
      "Requirement already satisfied: pyrsistent>=0.14.0 in /opt/conda/lib/python3.8/site-packages (from jsonschema!=2.5.0,>=2.4->nbformat->nbsphinx->datascience) (0.17.3)\r\n",
      "Requirement already satisfied: webencodings in /opt/conda/lib/python3.8/site-packages (from bleach->nbconvert!=5.4->nbsphinx->datascience) (0.5.1)\r\n"
     ]
    }
   ],
   "source": [
    "#importing libraries\n",
    "#WRITE THEM HERE\n",
    "import pandas            as pd\n",
    "import numpy             as np\n",
    "import matplotlib.pyplot as plt\n",
    "import seaborn           as sns\n",
    "import datascience\n",
    "\n",
    "!pip install datascience\n",
    "\n",
    "%matplotlib inline"
   ]
  },
  {
   "cell_type": "markdown",
   "metadata": {},
   "source": [
    "# More Data Cleaning\n",
    "\n",
    "In the next block we are improting the libraries `plotly.express`, `gc`, `re`, and `yellowbrick`. \n",
    "\n",
    "## The gc python library\n",
    "This library is a Garbage Collector¶. This module provides an interface to the optional garbage collector.\n",
    "- It is useful for when you are working with large datasets and you pull out useful informatin from these large datasets and store them in a separate dataframe.\n",
    "- Also useful if you have limited space. Some cloud servers only allow you to use a certain amount of space for free services.  (i.e. Collab, jupyter notebooks, etc.)\n"
   ]
  },
  {
   "cell_type": "markdown",
   "metadata": {},
   "source": [
    "# The re library\n",
    "This is the regular expression library. You should have already been introduced to this in a previous lab. \n",
    "Go here: https://docs.python.org/3/library/re.html for more information"
   ]
  },
  {
   "cell_type": "markdown",
   "metadata": {},
   "source": [
    "# Yellowbrick library\n",
    "visual analysis and diagnostic tools\n",
    "you may need to install it to get it to work\n",
    "\n",
    "`pip install yellowbrick`"
   ]
  },
  {
   "cell_type": "code",
   "execution_count": 79,
   "metadata": {},
   "outputs": [
    {
     "name": "stdout",
     "output_type": "stream",
     "text": [
      "Requirement already satisfied: plotly in /opt/conda/lib/python3.8/site-packages (4.11.0)\n",
      "Requirement already satisfied: six in /opt/conda/lib/python3.8/site-packages (from plotly) (1.15.0)\n",
      "Requirement already satisfied: retrying>=1.3.3 in /opt/conda/lib/python3.8/site-packages (from plotly) (1.3.3)\n",
      "Requirement already satisfied: seaborn in /opt/conda/lib/python3.8/site-packages (0.11.0)\n",
      "Requirement already satisfied: pandas>=0.23 in /opt/conda/lib/python3.8/site-packages (from seaborn) (1.1.3)\n",
      "Requirement already satisfied: matplotlib>=2.2 in /opt/conda/lib/python3.8/site-packages (from seaborn) (3.3.2)\n",
      "Requirement already satisfied: numpy>=1.15 in /opt/conda/lib/python3.8/site-packages (from seaborn) (1.19.2)\n",
      "Requirement already satisfied: scipy>=1.0 in /opt/conda/lib/python3.8/site-packages (from seaborn) (1.5.2)\n",
      "Requirement already satisfied: python-dateutil>=2.7.3 in /opt/conda/lib/python3.8/site-packages (from pandas>=0.23->seaborn) (2.8.1)\n",
      "Requirement already satisfied: pytz>=2017.2 in /opt/conda/lib/python3.8/site-packages (from pandas>=0.23->seaborn) (2020.1)\n",
      "Requirement already satisfied: kiwisolver>=1.0.1 in /opt/conda/lib/python3.8/site-packages (from matplotlib>=2.2->seaborn) (1.2.0)\n",
      "Requirement already satisfied: pyparsing!=2.0.4,!=2.1.2,!=2.1.6,>=2.0.3 in /opt/conda/lib/python3.8/site-packages (from matplotlib>=2.2->seaborn) (2.4.7)\n",
      "Requirement already satisfied: cycler>=0.10 in /opt/conda/lib/python3.8/site-packages (from matplotlib>=2.2->seaborn) (0.10.0)\n",
      "Requirement already satisfied: certifi>=2020.06.20 in /opt/conda/lib/python3.8/site-packages (from matplotlib>=2.2->seaborn) (2020.6.20)\n",
      "Requirement already satisfied: pillow>=6.2.0 in /opt/conda/lib/python3.8/site-packages (from matplotlib>=2.2->seaborn) (8.0.0)\n",
      "Requirement already satisfied: six>=1.5 in /opt/conda/lib/python3.8/site-packages (from python-dateutil>=2.7.3->pandas>=0.23->seaborn) (1.15.0)\n",
      "Requirement already satisfied: nltk in /opt/conda/lib/python3.8/site-packages (3.4.4)\n",
      "Requirement already satisfied: six in /opt/conda/lib/python3.8/site-packages (from nltk) (1.15.0)\n",
      "Requirement already satisfied: gensim in ./.local/lib/python3.8/site-packages (3.8.3)\n",
      "Requirement already satisfied: six>=1.5.0 in /opt/conda/lib/python3.8/site-packages (from gensim) (1.15.0)\n",
      "Requirement already satisfied: smart-open>=1.8.1 in ./.local/lib/python3.8/site-packages (from gensim) (3.0.0)\n",
      "Requirement already satisfied: numpy>=1.11.3 in /opt/conda/lib/python3.8/site-packages (from gensim) (1.19.2)\n",
      "Requirement already satisfied: scipy>=0.18.1 in /opt/conda/lib/python3.8/site-packages (from gensim) (1.5.2)\n",
      "Requirement already satisfied: requests in /opt/conda/lib/python3.8/site-packages (from smart-open>=1.8.1->gensim) (2.24.0)\n",
      "Requirement already satisfied: urllib3!=1.25.0,!=1.25.1,<1.26,>=1.21.1 in /opt/conda/lib/python3.8/site-packages (from requests->smart-open>=1.8.1->gensim) (1.25.10)\n",
      "Requirement already satisfied: certifi>=2017.4.17 in /opt/conda/lib/python3.8/site-packages (from requests->smart-open>=1.8.1->gensim) (2020.6.20)\n",
      "Requirement already satisfied: chardet<4,>=3.0.2 in /opt/conda/lib/python3.8/site-packages (from requests->smart-open>=1.8.1->gensim) (3.0.4)\n",
      "Requirement already satisfied: idna<3,>=2.5 in /opt/conda/lib/python3.8/site-packages (from requests->smart-open>=1.8.1->gensim) (2.10)\n",
      "Requirement already satisfied: gensim in ./.local/lib/python3.8/site-packages (3.8.3)\n",
      "Requirement already satisfied: smart-open>=1.8.1 in ./.local/lib/python3.8/site-packages (from gensim) (3.0.0)\n",
      "Requirement already satisfied: numpy>=1.11.3 in /opt/conda/lib/python3.8/site-packages (from gensim) (1.19.2)\n",
      "Requirement already satisfied: scipy>=0.18.1 in /opt/conda/lib/python3.8/site-packages (from gensim) (1.5.2)\n",
      "Requirement already satisfied: six>=1.5.0 in /opt/conda/lib/python3.8/site-packages (from gensim) (1.15.0)\n",
      "Requirement already satisfied: requests in /opt/conda/lib/python3.8/site-packages (from smart-open>=1.8.1->gensim) (2.24.0)\n",
      "Requirement already satisfied: chardet<4,>=3.0.2 in /opt/conda/lib/python3.8/site-packages (from requests->smart-open>=1.8.1->gensim) (3.0.4)\n",
      "Requirement already satisfied: certifi>=2017.4.17 in /opt/conda/lib/python3.8/site-packages (from requests->smart-open>=1.8.1->gensim) (2020.6.20)\n",
      "Requirement already satisfied: urllib3!=1.25.0,!=1.25.1,<1.26,>=1.21.1 in /opt/conda/lib/python3.8/site-packages (from requests->smart-open>=1.8.1->gensim) (1.25.10)\n",
      "Requirement already satisfied: idna<3,>=2.5 in /opt/conda/lib/python3.8/site-packages (from requests->smart-open>=1.8.1->gensim) (2.10)\n",
      "Requirement already satisfied: yellowbrick in ./.local/lib/python3.8/site-packages (1.2)\n",
      "Requirement already satisfied: scipy>=1.0.0 in /opt/conda/lib/python3.8/site-packages (from yellowbrick) (1.5.2)\n",
      "Requirement already satisfied: matplotlib!=3.0.0,>=2.0.2 in /opt/conda/lib/python3.8/site-packages (from yellowbrick) (3.3.2)\n",
      "Requirement already satisfied: scikit-learn>=0.20 in /opt/conda/lib/python3.8/site-packages (from yellowbrick) (0.23.2)\n",
      "Requirement already satisfied: cycler>=0.10.0 in /opt/conda/lib/python3.8/site-packages (from yellowbrick) (0.10.0)\n",
      "Requirement already satisfied: numpy>=1.13.0 in /opt/conda/lib/python3.8/site-packages (from yellowbrick) (1.19.2)\n",
      "Requirement already satisfied: pyparsing!=2.0.4,!=2.1.2,!=2.1.6,>=2.0.3 in /opt/conda/lib/python3.8/site-packages (from matplotlib!=3.0.0,>=2.0.2->yellowbrick) (2.4.7)\n",
      "Requirement already satisfied: certifi>=2020.06.20 in /opt/conda/lib/python3.8/site-packages (from matplotlib!=3.0.0,>=2.0.2->yellowbrick) (2020.6.20)\n",
      "Requirement already satisfied: kiwisolver>=1.0.1 in /opt/conda/lib/python3.8/site-packages (from matplotlib!=3.0.0,>=2.0.2->yellowbrick) (1.2.0)\n",
      "Requirement already satisfied: python-dateutil>=2.1 in /opt/conda/lib/python3.8/site-packages (from matplotlib!=3.0.0,>=2.0.2->yellowbrick) (2.8.1)\n",
      "Requirement already satisfied: pillow>=6.2.0 in /opt/conda/lib/python3.8/site-packages (from matplotlib!=3.0.0,>=2.0.2->yellowbrick) (8.0.0)\n",
      "Requirement already satisfied: joblib>=0.11 in /opt/conda/lib/python3.8/site-packages (from scikit-learn>=0.20->yellowbrick) (0.17.0)\n",
      "Requirement already satisfied: threadpoolctl>=2.0.0 in /opt/conda/lib/python3.8/site-packages (from scikit-learn>=0.20->yellowbrick) (2.1.0)\n",
      "Requirement already satisfied: six in /opt/conda/lib/python3.8/site-packages (from cycler>=0.10.0->yellowbrick) (1.15.0)\n"
     ]
    }
   ],
   "source": [
    "# Note if anything isn't working in this tutorial you may need to install it. See below\n",
    "!pip3 install plotly --user\n",
    "!pip install seaborn\n",
    "!pip3 install nltk --user\n",
    "!pip install gensim --user\n",
    "!pip3 install gensim\n",
    "!pip install yellowbrick --user"
   ]
  },
  {
   "cell_type": "code",
   "execution_count": 51,
   "metadata": {
    "_kg_hide-input": true,
    "_kg_hide-output": true,
    "cell_id": "517b3ecd-c2a1-47ad-b6a8-aa965e168770"
   },
   "outputs": [
    {
     "name": "stdout",
     "output_type": "stream",
     "text": [
      "Requirement already satisfied: pandas in /opt/conda/lib/python3.8/site-packages (1.1.3)\n",
      "Requirement already satisfied: plotnine in ./.local/lib/python3.8/site-packages (0.7.1)\n",
      "Requirement already satisfied: python-dateutil>=2.7.3 in /opt/conda/lib/python3.8/site-packages (from pandas) (2.8.1)\n",
      "Requirement already satisfied: numpy>=1.15.4 in /opt/conda/lib/python3.8/site-packages (from pandas) (1.19.2)\n",
      "Requirement already satisfied: pytz>=2017.2 in /opt/conda/lib/python3.8/site-packages (from pandas) (2020.1)\n",
      "Requirement already satisfied: statsmodels>=0.11.1 in /opt/conda/lib/python3.8/site-packages (from plotnine) (0.12.0)\n",
      "Requirement already satisfied: scipy>=1.2.0 in /opt/conda/lib/python3.8/site-packages (from plotnine) (1.5.2)\n",
      "Requirement already satisfied: patsy>=0.5.1 in /opt/conda/lib/python3.8/site-packages (from plotnine) (0.5.1)\n",
      "Requirement already satisfied: matplotlib>=3.1.1 in /opt/conda/lib/python3.8/site-packages (from plotnine) (3.3.2)\n",
      "Requirement already satisfied: descartes>=1.1.0 in ./.local/lib/python3.8/site-packages (from plotnine) (1.1.0)\n",
      "Requirement already satisfied: mizani>=0.7.1 in ./.local/lib/python3.8/site-packages (from plotnine) (0.7.2)\n",
      "Requirement already satisfied: six>=1.5 in /opt/conda/lib/python3.8/site-packages (from python-dateutil>=2.7.3->pandas) (1.15.0)\n",
      "Requirement already satisfied: kiwisolver>=1.0.1 in /opt/conda/lib/python3.8/site-packages (from matplotlib>=3.1.1->plotnine) (1.2.0)\n",
      "Requirement already satisfied: pillow>=6.2.0 in /opt/conda/lib/python3.8/site-packages (from matplotlib>=3.1.1->plotnine) (8.0.0)\n",
      "Requirement already satisfied: pyparsing!=2.0.4,!=2.1.2,!=2.1.6,>=2.0.3 in /opt/conda/lib/python3.8/site-packages (from matplotlib>=3.1.1->plotnine) (2.4.7)\n",
      "Requirement already satisfied: certifi>=2020.06.20 in /opt/conda/lib/python3.8/site-packages (from matplotlib>=3.1.1->plotnine) (2020.6.20)\n",
      "Requirement already satisfied: cycler>=0.10 in /opt/conda/lib/python3.8/site-packages (from matplotlib>=3.1.1->plotnine) (0.10.0)\n",
      "Requirement already satisfied: palettable in ./.local/lib/python3.8/site-packages (from mizani>=0.7.1->plotnine) (3.3.0)\n",
      "Requirement already satisfied: datascience in /opt/conda/lib/python3.8/site-packages (0.17.0)\n",
      "Requirement already satisfied: bokeh in /opt/conda/lib/python3.8/site-packages (from datascience) (2.2.2)\n",
      "Requirement already satisfied: pandas in /opt/conda/lib/python3.8/site-packages (from datascience) (1.1.3)\n",
      "Requirement already satisfied: scipy in /opt/conda/lib/python3.8/site-packages (from datascience) (1.5.2)\n",
      "Requirement already satisfied: numpy in /opt/conda/lib/python3.8/site-packages (from datascience) (1.19.2)\n",
      "Requirement already satisfied: plotly in /opt/conda/lib/python3.8/site-packages (from datascience) (4.11.0)\n",
      "Requirement already satisfied: pytest in /opt/conda/lib/python3.8/site-packages (from datascience) (6.1.1)\n",
      "Requirement already satisfied: sphinx in /opt/conda/lib/python3.8/site-packages (from datascience) (3.2.1)\n",
      "Requirement already satisfied: branca in /opt/conda/lib/python3.8/site-packages (from datascience) (0.4.1)\n",
      "Requirement already satisfied: ipython in /opt/conda/lib/python3.8/site-packages (from datascience) (7.18.1)\n",
      "Requirement already satisfied: nbsphinx in /opt/conda/lib/python3.8/site-packages (from datascience) (0.7.1)\n",
      "Requirement already satisfied: coverage in /opt/conda/lib/python3.8/site-packages (from datascience) (5.3)\n",
      "Requirement already satisfied: coveralls in /opt/conda/lib/python3.8/site-packages (from datascience) (2.1.2)\n",
      "Requirement already satisfied: matplotlib>=3.0.0 in /opt/conda/lib/python3.8/site-packages (from datascience) (3.3.2)\n",
      "Requirement already satisfied: folium>=0.9.1 in /opt/conda/lib/python3.8/site-packages (from datascience) (0.11.0)\n",
      "Requirement already satisfied: setuptools in /opt/conda/lib/python3.8/site-packages (from datascience) (49.6.0.post20201009)\n",
      "Requirement already satisfied: pillow>=7.1.0 in /opt/conda/lib/python3.8/site-packages (from bokeh->datascience) (8.0.0)\n",
      "Requirement already satisfied: tornado>=5.1 in /opt/conda/lib/python3.8/site-packages (from bokeh->datascience) (6.0.4)\n",
      "Requirement already satisfied: Jinja2>=2.7 in /opt/conda/lib/python3.8/site-packages (from bokeh->datascience) (2.11.2)\n",
      "Requirement already satisfied: packaging>=16.8 in /opt/conda/lib/python3.8/site-packages (from bokeh->datascience) (20.4)\n",
      "Requirement already satisfied: PyYAML>=3.10 in /opt/conda/lib/python3.8/site-packages (from bokeh->datascience) (5.3.1)\n",
      "Requirement already satisfied: typing-extensions>=3.7.4 in /opt/conda/lib/python3.8/site-packages (from bokeh->datascience) (3.7.4.3)\n",
      "Requirement already satisfied: python-dateutil>=2.1 in /opt/conda/lib/python3.8/site-packages (from bokeh->datascience) (2.8.1)\n",
      "Requirement already satisfied: pytz>=2017.2 in /opt/conda/lib/python3.8/site-packages (from pandas->datascience) (2020.1)\n",
      "Requirement already satisfied: retrying>=1.3.3 in /opt/conda/lib/python3.8/site-packages (from plotly->datascience) (1.3.3)\n",
      "Requirement already satisfied: six in /opt/conda/lib/python3.8/site-packages (from plotly->datascience) (1.15.0)\n",
      "Requirement already satisfied: toml in /opt/conda/lib/python3.8/site-packages (from pytest->datascience) (0.10.1)\n",
      "Requirement already satisfied: pluggy<1.0,>=0.12 in /opt/conda/lib/python3.8/site-packages (from pytest->datascience) (0.13.1)\n",
      "Requirement already satisfied: iniconfig in /opt/conda/lib/python3.8/site-packages (from pytest->datascience) (1.1.1)\n",
      "Requirement already satisfied: attrs>=17.4.0 in /opt/conda/lib/python3.8/site-packages (from pytest->datascience) (20.2.0)\n",
      "Requirement already satisfied: py>=1.8.2 in /opt/conda/lib/python3.8/site-packages (from pytest->datascience) (1.9.0)\n",
      "Requirement already satisfied: requests>=2.5.0 in /opt/conda/lib/python3.8/site-packages (from sphinx->datascience) (2.24.0)\n",
      "Requirement already satisfied: snowballstemmer>=1.1 in /opt/conda/lib/python3.8/site-packages (from sphinx->datascience) (2.0.0)\n",
      "Requirement already satisfied: sphinxcontrib-serializinghtml in /opt/conda/lib/python3.8/site-packages (from sphinx->datascience) (1.1.4)\n",
      "Requirement already satisfied: sphinxcontrib-jsmath in /opt/conda/lib/python3.8/site-packages (from sphinx->datascience) (1.0.1)\n",
      "Requirement already satisfied: sphinxcontrib-qthelp in /opt/conda/lib/python3.8/site-packages (from sphinx->datascience) (1.0.3)\n",
      "Requirement already satisfied: alabaster<0.8,>=0.7 in /opt/conda/lib/python3.8/site-packages (from sphinx->datascience) (0.7.12)\n",
      "Requirement already satisfied: sphinxcontrib-applehelp in /opt/conda/lib/python3.8/site-packages (from sphinx->datascience) (1.0.2)\n",
      "Requirement already satisfied: babel>=1.3 in /opt/conda/lib/python3.8/site-packages (from sphinx->datascience) (2.8.0)\n",
      "Requirement already satisfied: imagesize in /opt/conda/lib/python3.8/site-packages (from sphinx->datascience) (1.2.0)\n",
      "Requirement already satisfied: sphinxcontrib-htmlhelp in /opt/conda/lib/python3.8/site-packages (from sphinx->datascience) (1.0.3)\n",
      "Requirement already satisfied: docutils>=0.12 in /opt/conda/lib/python3.8/site-packages (from sphinx->datascience) (0.16)\n",
      "Requirement already satisfied: Pygments>=2.0 in /opt/conda/lib/python3.8/site-packages (from sphinx->datascience) (2.7.1)\n",
      "Requirement already satisfied: sphinxcontrib-devhelp in /opt/conda/lib/python3.8/site-packages (from sphinx->datascience) (1.0.2)\n",
      "Requirement already satisfied: pexpect>4.3; sys_platform != \"win32\" in /opt/conda/lib/python3.8/site-packages (from ipython->datascience) (4.8.0)\n",
      "Requirement already satisfied: backcall in /opt/conda/lib/python3.8/site-packages (from ipython->datascience) (0.2.0)\n",
      "Requirement already satisfied: decorator in /opt/conda/lib/python3.8/site-packages (from ipython->datascience) (4.4.2)\n",
      "Requirement already satisfied: pickleshare in /opt/conda/lib/python3.8/site-packages (from ipython->datascience) (0.7.5)\n",
      "Requirement already satisfied: traitlets>=4.2 in /opt/conda/lib/python3.8/site-packages (from ipython->datascience) (4.3.3)\n",
      "Requirement already satisfied: prompt-toolkit!=3.0.0,!=3.0.1,<3.1.0,>=2.0.0 in /opt/conda/lib/python3.8/site-packages (from ipython->datascience) (3.0.8)\n",
      "Requirement already satisfied: jedi>=0.10 in /opt/conda/lib/python3.8/site-packages (from ipython->datascience) (0.17.2)\n",
      "Requirement already satisfied: nbconvert!=5.4 in /opt/conda/lib/python3.8/site-packages (from nbsphinx->datascience) (5.6.1)\n",
      "Requirement already satisfied: nbformat in /opt/conda/lib/python3.8/site-packages (from nbsphinx->datascience) (4.4.0)\n",
      "Requirement already satisfied: docopt>=0.6.1 in /opt/conda/lib/python3.8/site-packages (from coveralls->datascience) (0.6.2)\n",
      "Requirement already satisfied: certifi>=2020.06.20 in /opt/conda/lib/python3.8/site-packages (from matplotlib>=3.0.0->datascience) (2020.6.20)\n",
      "Requirement already satisfied: pyparsing!=2.0.4,!=2.1.2,!=2.1.6,>=2.0.3 in /opt/conda/lib/python3.8/site-packages (from matplotlib>=3.0.0->datascience) (2.4.7)\n",
      "Requirement already satisfied: kiwisolver>=1.0.1 in /opt/conda/lib/python3.8/site-packages (from matplotlib>=3.0.0->datascience) (1.2.0)\n",
      "Requirement already satisfied: cycler>=0.10 in /opt/conda/lib/python3.8/site-packages (from matplotlib>=3.0.0->datascience) (0.10.0)\n",
      "Requirement already satisfied: MarkupSafe>=0.23 in /opt/conda/lib/python3.8/site-packages (from Jinja2>=2.7->bokeh->datascience) (1.1.1)\n",
      "Requirement already satisfied: chardet<4,>=3.0.2 in /opt/conda/lib/python3.8/site-packages (from requests>=2.5.0->sphinx->datascience) (3.0.4)\n",
      "Requirement already satisfied: urllib3!=1.25.0,!=1.25.1,<1.26,>=1.21.1 in /opt/conda/lib/python3.8/site-packages (from requests>=2.5.0->sphinx->datascience) (1.25.10)\n",
      "Requirement already satisfied: idna<3,>=2.5 in /opt/conda/lib/python3.8/site-packages (from requests>=2.5.0->sphinx->datascience) (2.10)\n",
      "Requirement already satisfied: ptyprocess>=0.5 in /opt/conda/lib/python3.8/site-packages (from pexpect>4.3; sys_platform != \"win32\"->ipython->datascience) (0.6.0)\n",
      "Requirement already satisfied: ipython-genutils in /opt/conda/lib/python3.8/site-packages (from traitlets>=4.2->ipython->datascience) (0.2.0)\n",
      "Requirement already satisfied: wcwidth in /opt/conda/lib/python3.8/site-packages (from prompt-toolkit!=3.0.0,!=3.0.1,<3.1.0,>=2.0.0->ipython->datascience) (0.2.5)\n",
      "Requirement already satisfied: parso<0.8.0,>=0.7.0 in /opt/conda/lib/python3.8/site-packages (from jedi>=0.10->ipython->datascience) (0.7.1)\n",
      "Requirement already satisfied: testpath in /opt/conda/lib/python3.8/site-packages (from nbconvert!=5.4->nbsphinx->datascience) (0.4.4)\n",
      "Requirement already satisfied: mistune<2,>=0.8.1 in /opt/conda/lib/python3.8/site-packages (from nbconvert!=5.4->nbsphinx->datascience) (0.8.4)\n",
      "Requirement already satisfied: defusedxml in /opt/conda/lib/python3.8/site-packages (from nbconvert!=5.4->nbsphinx->datascience) (0.6.0)\n",
      "Requirement already satisfied: bleach in /opt/conda/lib/python3.8/site-packages (from nbconvert!=5.4->nbsphinx->datascience) (3.2.1)\n",
      "Requirement already satisfied: entrypoints>=0.2.2 in /opt/conda/lib/python3.8/site-packages (from nbconvert!=5.4->nbsphinx->datascience) (0.3)\n",
      "Requirement already satisfied: jupyter-core in /opt/conda/lib/python3.8/site-packages (from nbconvert!=5.4->nbsphinx->datascience) (4.6.3)\n",
      "Requirement already satisfied: pandocfilters>=1.4.1 in /opt/conda/lib/python3.8/site-packages (from nbconvert!=5.4->nbsphinx->datascience) (1.4.2)\n",
      "Requirement already satisfied: jsonschema!=2.5.0,>=2.4 in /opt/conda/lib/python3.8/site-packages (from nbformat->nbsphinx->datascience) (3.2.0)\n",
      "Requirement already satisfied: webencodings in /opt/conda/lib/python3.8/site-packages (from bleach->nbconvert!=5.4->nbsphinx->datascience) (0.5.1)\n",
      "Requirement already satisfied: pyrsistent>=0.14.0 in /opt/conda/lib/python3.8/site-packages (from jsonschema!=2.5.0,>=2.4->nbformat->nbsphinx->datascience) (0.17.3)\n"
     ]
    },
    {
     "ename": "ModuleNotFoundError",
     "evalue": "No module named 'plotnine'",
     "output_type": "error",
     "traceback": [
      "\u001b[0;31m---------------------------------------------------------------------------\u001b[0m",
      "\u001b[0;31mModuleNotFoundError\u001b[0m                       Traceback (most recent call last)",
      "\u001b[0;32m<ipython-input-51-6b754038cf88>\u001b[0m in \u001b[0;36m<module>\u001b[0;34m\u001b[0m\n\u001b[1;32m     10\u001b[0m \u001b[0mget_ipython\u001b[0m\u001b[0;34m(\u001b[0m\u001b[0;34m)\u001b[0m\u001b[0;34m.\u001b[0m\u001b[0msystem\u001b[0m\u001b[0;34m(\u001b[0m\u001b[0;34m'pip install datascience --user'\u001b[0m\u001b[0;34m)\u001b[0m\u001b[0;34m\u001b[0m\u001b[0;34m\u001b[0m\u001b[0m\n\u001b[1;32m     11\u001b[0m \u001b[0;34m\u001b[0m\u001b[0m\n\u001b[0;32m---> 12\u001b[0;31m \u001b[0;32mfrom\u001b[0m \u001b[0mplotnine\u001b[0m \u001b[0;32mimport\u001b[0m \u001b[0;34m*\u001b[0m\u001b[0;34m\u001b[0m\u001b[0;34m\u001b[0m\u001b[0m\n\u001b[0m\u001b[1;32m     13\u001b[0m \u001b[0;32mfrom\u001b[0m \u001b[0mdatascience\u001b[0m \u001b[0;32mimport\u001b[0m \u001b[0;34m*\u001b[0m\u001b[0;34m\u001b[0m\u001b[0;34m\u001b[0m\u001b[0m\n\u001b[1;32m     14\u001b[0m \u001b[0;34m\u001b[0m\u001b[0m\n",
      "\u001b[0;31mModuleNotFoundError\u001b[0m: No module named 'plotnine'"
     ]
    }
   ],
   "source": [
    "import seaborn as sns\n",
    "#import nltk \n",
    "#import plotly.express as px\n",
    "import gc\n",
    "import string\n",
    "import re\n",
    "#import yellowbrick\n",
    "\n",
    "!pip install pandas plotnine --user\n",
    "!pip install datascience --user\n",
    "\n",
    "from plotnine import *\n",
    "from datascience import *\n",
    "\n",
    "pd.set_option('display.max_colwidth', 0)\n",
    "pd.options.display.max_columns = 0\n"
   ]
  },
  {
   "cell_type": "markdown",
   "metadata": {},
   "source": [
    "## Q2. Write the code to use pandas to load the csv files Data_Job_NY.csv, Data_Job_SF.csv, Data_Job_TX.csv, and Data_Job_WA.csv into dataframes.\n",
    "Name the dataframes `ny_df`, `sf_df`, `tx_df`, and `wa_df`\n",
    "\n",
    "Remember that your csv files should be located in the data directory"
   ]
  },
  {
   "cell_type": "code",
   "execution_count": null,
   "metadata": {},
   "outputs": [],
   "source": [
    "# Load the datasets NY, SF, TX, WA\n",
    "# WRITE CODE HERE\n",
    "\n",
    "ny_df = pd.read_csv(\"Data_Job_NY.csv\")\n",
    "sf_df = pd.read_csv(\"Data_Job_SF.csv\")\n",
    "tx_df = pd.read_csv(\"Data_Job_TX.csv\")\n",
    "wa_df = pd.read_csv(\"Data_Job_WA.csv\")"
   ]
  },
  {
   "cell_type": "markdown",
   "metadata": {},
   "source": [
    "## Q3. Write the code to print out the count, mean, std, min, and max of all of the datasets loaded. \n",
    "Note: You'll have to run the code in a separate cell for each of the datasets"
   ]
  },
  {
   "cell_type": "code",
   "execution_count": null,
   "metadata": {},
   "outputs": [],
   "source": [
    "ny_df.describe()"
   ]
  },
  {
   "cell_type": "code",
   "execution_count": null,
   "metadata": {},
   "outputs": [],
   "source": [
    "sf_df.describe()"
   ]
  },
  {
   "cell_type": "code",
   "execution_count": null,
   "metadata": {},
   "outputs": [],
   "source": [
    "tx_df.describe()"
   ]
  },
  {
   "cell_type": "code",
   "execution_count": null,
   "metadata": {},
   "outputs": [],
   "source": [
    "wa_df.describe()"
   ]
  },
  {
   "cell_type": "markdown",
   "metadata": {},
   "source": [
    "## Q4. Write the code to print the first 2 rows of the NY dataset"
   ]
  },
  {
   "cell_type": "code",
   "execution_count": null,
   "metadata": {},
   "outputs": [],
   "source": [
    "ny_df.iloc[:2]"
   ]
  },
  {
   "cell_type": "markdown",
   "metadata": {},
   "source": [
    "## Q5. Write the code to print the name of the columns for only one of the dataframes\n",
    "\n",
    "Note: the data was scrapted from glassdoor and will have the same column information for each dataframe loaded"
   ]
  },
  {
   "cell_type": "code",
   "execution_count": null,
   "metadata": {},
   "outputs": [],
   "source": [
    "# Print column informaiton here\n",
    "list(ny_df.columns)"
   ]
  },
  {
   "cell_type": "markdown",
   "metadata": {
    "cell_id": "c26eda34-205d-4a63-9182-4ac694ed19b7",
    "tags": []
   },
   "source": [
    "## ***Information About the columns present in the Data***\n",
    "\n",
    "1. The 12 columns in the datasets:\n",
    "    * ***Job_title*** : The title of job which you are applying to\n",
    "    * ***Company*** : Company name\n",
    "    * ***State/City*** : State/City in which the companies job posting is listed.\n",
    "    * ***Min_Salary*** : Minimum yearly salary in USD.\n",
    "    * ***Max_Salary*** : Maximum yearly salary in USD.\n",
    "    * ***Job_Desc*** : The job description which included skills,requirements,etc\n",
    "    * ***Industry*** : The industry in which the company works.\n",
    "    * ***Date_posted*** : The date  on which the job was posted on glassdoor\n",
    "    * ***Valid_until*** : The last date of applying to the job.\n",
    "    * ***Job_Type*** : Type of job full-time , part-time,etc.\n"
   ]
  },
  {
   "cell_type": "markdown",
   "metadata": {},
   "source": [
    "### Sorting column names\n",
    "\n",
    "You can sort the names of the columns alphabettically using the below `sorted` function\n",
    "`sorted(df)` where df is the name of the dataframe"
   ]
  },
  {
   "cell_type": "markdown",
   "metadata": {},
   "source": [
    "## Q6. Write the code to sort the column names alphabetically"
   ]
  },
  {
   "cell_type": "code",
   "execution_count": null,
   "metadata": {},
   "outputs": [],
   "source": [
    "# using sorted() method \n",
    "sorted(ny_df.columns)"
   ]
  },
  {
   "cell_type": "markdown",
   "metadata": {},
   "source": [
    "# Joining OR Concatenating Dataframes\n",
    "To join dataframes together use the panda function `concat`.\n",
    "`pd.concat(df1, df2, df3, ..., dfn)` where pd is the panda library name and df1 is dataframe1, df2 is dataframe2, and df3 is dataframe3"
   ]
  },
  {
   "cell_type": "code",
   "execution_count": null,
   "metadata": {
    "_kg_hide-input": true,
    "cell_id": "a5ab06c9-3fb5-4b41-a3a2-69f22b7bca6e",
    "tags": []
   },
   "outputs": [],
   "source": [
    "# Below is an example of how to concatenate the dataframes together\n",
    "#Concatenating the data files\n",
    "\n",
    "all_df = pd.concat([ny_df , sf_df , tx_df, wa_df] , axis = 0 , ignore_index = True)"
   ]
  },
  {
   "cell_type": "markdown",
   "metadata": {},
   "source": [
    "# Garbage Collection\n",
    "In some cases you should perform garbage collection to clear up your workspace\n",
    "This is especially true when working on cloud-based systems like Collab or Jupyter notebooks\n",
    "\n",
    "Use the `gc.collect()` function to clean up any dataframes that you don't need anymore\n",
    "To do this you'll need to delete them first then call `gc.collect()`"
   ]
  },
  {
   "cell_type": "code",
   "execution_count": null,
   "metadata": {
    "_kg_hide-input": true,
    "_kg_hide-output": true,
    "cell_id": "4a80b5b4-163d-4e4b-a243-2bf4ee8b890b",
    "tags": []
   },
   "outputs": [],
   "source": [
    "del ny_df , sf_df , tx_df ,wa_df\n",
    "gc.collect()"
   ]
  },
  {
   "cell_type": "markdown",
   "metadata": {},
   "source": [
    "## Q7. Write the output from the collect function below\n",
    "\n",
    "WRITE ANSWER HERE:\n",
    "102\n",
    "\n",
    "## Q8. What do you think it means?\n",
    "\n",
    "WRITE ANSWER HERE:\n",
    "This is the number of unreachable objects found returned."
   ]
  },
  {
   "cell_type": "code",
   "execution_count": null,
   "metadata": {},
   "outputs": [],
   "source": [
    "print(gc.collect())"
   ]
  },
  {
   "cell_type": "markdown",
   "metadata": {
    "cell_id": "3c7fd77a-44b2-4e40-9263-99e82b635903",
    "tags": []
   },
   "source": [
    "# Beginning Exploratory Data Analysis"
   ]
  },
  {
   "cell_type": "markdown",
   "metadata": {},
   "source": [
    "## Q9. How many rows and columns does your all_df have? Write the code below."
   ]
  },
  {
   "cell_type": "code",
   "execution_count": null,
   "metadata": {
    "_kg_hide-input": true,
    "cell_id": "e59071bd-25f5-40ed-9ee5-adb9e7139db3",
    "tags": []
   },
   "outputs": [],
   "source": [
    "# WRITE CODE HERE\n",
    "all_df.shape"
   ]
  },
  {
   "cell_type": "code",
   "execution_count": null,
   "metadata": {
    "_kg_hide-input": true,
    "cell_id": "e9742998-e646-41fb-a082-a3f2c30369cc",
    "tags": []
   },
   "outputs": [],
   "source": [
    "all_df.info()"
   ]
  },
  {
   "cell_type": "markdown",
   "metadata": {},
   "source": [
    "# Working with Data to Sort and Filter it\n",
    "\n",
    "Sometimes the data you are given or that you have scraped will need to be converted to another format. \n",
    "\n",
    "In all_df, we'll mainly we working with min_salary and max_salary\n",
    "\n",
    "To work with these values we'll need to convert them to int"
   ]
  },
  {
   "cell_type": "code",
   "execution_count": null,
   "metadata": {
    "_kg_hide-input": true,
    "cell_id": "3d2158e1-6eff-4fd3-bef5-53320e36eb26",
    "tags": []
   },
   "outputs": [],
   "source": [
    "#First let's convert min_salary and max_salary columns to int\n",
    "all_df['Min_Salary'] = all_df['Min_Salary'].apply(lambda x : int(x))\n",
    "all_df['Max_Salary'] = all_df['Max_Salary'].apply(lambda x : int(x))"
   ]
  },
  {
   "cell_type": "markdown",
   "metadata": {},
   "source": [
    "# Working with Dates in Datasets\n",
    "Many datasets have dates within them\n",
    "To work with dates, and to sort and filter them properly you may need to work with only the month\n",
    "or only the year or only the day.\n",
    "\n",
    "Use the `calendar` library as shown below"
   ]
  },
  {
   "cell_type": "code",
   "execution_count": null,
   "metadata": {
    "_kg_hide-input": true,
    "cell_id": "6ee4f7e1-c616-4880-82a7-419ab8c46232",
    "tags": []
   },
   "outputs": [],
   "source": [
    "#Extracting date and day from Date_Posted : data is the format y-m-d\n",
    "import calendar\n",
    "all_df['Month'] = all_df['Date_Posted'].apply(lambda x : calendar.month_abbr[int(str(x).split('-')[1])]) "
   ]
  },
  {
   "cell_type": "code",
   "execution_count": null,
   "metadata": {},
   "outputs": [],
   "source": [
    "all_df"
   ]
  },
  {
   "cell_type": "markdown",
   "metadata": {},
   "source": [
    "## Q10 Write the code to extract the date and day from Valid Until column. \n",
    "data is the format y-m-d\n",
    "Name it `all_df['Valid_Month']`"
   ]
  },
  {
   "cell_type": "code",
   "execution_count": null,
   "metadata": {},
   "outputs": [],
   "source": [
    "all_df['Valid_Month'] = all_df['Valid_until'].apply(lambda x : calendar.month_abbr[int(str(x).split('-')[1])]) \n",
    "all_df"
   ]
  },
  {
   "cell_type": "markdown",
   "metadata": {},
   "source": [
    "## Converting Dates to Day\n",
    "Sometimes you will need to convert a date into a given day\n",
    "To do this, you can use the function created below called \n",
    "`Convert_to_Day`\n"
   ]
  },
  {
   "cell_type": "code",
   "execution_count": null,
   "metadata": {
    "_kg_hide-input": true,
    "cell_id": "d0556fcb-efdd-43d5-b752-515983645740",
    "tags": []
   },
   "outputs": [],
   "source": [
    "def Convert_to_Day(x):\n",
    "    sl = x.split('-')\n",
    "    \n",
    "    return calendar.day_abbr[int(calendar.weekday(int(sl[0]) , int(sl[1]) , int(sl[2])))]"
   ]
  },
  {
   "cell_type": "markdown",
   "metadata": {},
   "source": [
    "## Q11. Use the Convert to Day function to convert the Date_Posted and Valid_Until values to days\n",
    "Print out row 105 in the dataset"
   ]
  },
  {
   "cell_type": "code",
   "execution_count": null,
   "metadata": {},
   "outputs": [],
   "source": [
    "all_df['V_Day'] = all_df['Valid_until'].apply(lambda x : Convert_to_Day(x)) \n",
    "all_df['Day'] = all_df['Date_Posted'].apply(lambda x : Convert_to_Day(x)) \n",
    "all_df.iloc[[105]]"
   ]
  },
  {
   "cell_type": "markdown",
   "metadata": {},
   "source": [
    "# Revisiting Working with Missing Data\n",
    "In Data Munging Part I, we removed missing data\n",
    "\n",
    "Sometimes you'll want to save that data for later so you can do some analysis on the erroneously provided or missing data\n",
    "This is shown below"
   ]
  },
  {
   "cell_type": "code",
   "execution_count": null,
   "metadata": {
    "_kg_hide-input": true,
    "cell_id": "894e3b68-39c8-4ae7-905c-fdd55849c24e",
    "output_cleared": false,
    "tags": []
   },
   "outputs": [],
   "source": [
    "# This dataset replaced missing values with -1 \n",
    "# Store that data in different data frame\n",
    "index_missing = all_df[(all_df['Min_Salary'] == -1)].index\n",
    "\n",
    "#We will use this data as our test set.\n",
    "test_df = all_df.iloc[index_missing, :].reset_index(drop = True)"
   ]
  },
  {
   "cell_type": "markdown",
   "metadata": {},
   "source": [
    "## Q11. Now that you have this missing data, you can now drop it from the dataframe. Write the code to do this below.\n",
    "**Hint: You should use the function `drop` that follows this format\n",
    "`df.drop(missing_data_index, axis=0, inplace=True)` where `df` is the dataframe\n",
    "and `missing_data_index` is a list of rows to drop from the dataframe"
   ]
  },
  {
   "cell_type": "code",
   "execution_count": 52,
   "metadata": {},
   "outputs": [
    {
     "data": {
      "text/plain": [
       "Int64Index([   0,    1,    2,    9,   12,   16,   17,   19,   20,   21,\n",
       "            ...\n",
       "            3289, 3292, 3293, 3295, 3296, 3300, 3301, 3302, 3303, 3304],\n",
       "           dtype='int64', length=1092)"
      ]
     },
     "execution_count": 52,
     "metadata": {},
     "output_type": "execute_result"
    }
   ],
   "source": [
    "index_missing"
   ]
  },
  {
   "cell_type": "code",
   "execution_count": 53,
   "metadata": {},
   "outputs": [
    {
     "data": {
      "text/html": [
       "<div>\n",
       "<style scoped>\n",
       "    .dataframe tbody tr th:only-of-type {\n",
       "        vertical-align: middle;\n",
       "    }\n",
       "\n",
       "    .dataframe tbody tr th {\n",
       "        vertical-align: top;\n",
       "    }\n",
       "\n",
       "    .dataframe thead th {\n",
       "        text-align: right;\n",
       "    }\n",
       "</style>\n",
       "<table border=\"1\" class=\"dataframe\">\n",
       "  <thead>\n",
       "    <tr style=\"text-align: right;\">\n",
       "      <th></th>\n",
       "      <th>Job_title</th>\n",
       "      <th>Company</th>\n",
       "      <th>State</th>\n",
       "      <th>City</th>\n",
       "      <th>Min_Salary</th>\n",
       "      <th>Max_Salary</th>\n",
       "      <th>Job_Desc</th>\n",
       "      <th>Industry</th>\n",
       "      <th>Rating</th>\n",
       "      <th>Date_Posted</th>\n",
       "      <th>Valid_until</th>\n",
       "      <th>Job_Type</th>\n",
       "      <th>Month</th>\n",
       "      <th>Valid_Month</th>\n",
       "      <th>V_Day</th>\n",
       "      <th>Day</th>\n",
       "    </tr>\n",
       "  </thead>\n",
       "  <tbody>\n",
       "    <tr>\n",
       "      <th>0</th>\n",
       "      <td>Plumber</td>\n",
       "      <td>Plumbing for life Inc.</td>\n",
       "      <td>NY</td>\n",
       "      <td>New York</td>\n",
       "      <td>-1</td>\n",
       "      <td>-1</td>\n",
       "      <td>Established plumbing company looking for a Plu...</td>\n",
       "      <td>NaN</td>\n",
       "      <td>NaN</td>\n",
       "      <td>2020-04-29</td>\n",
       "      <td>2020-06-07</td>\n",
       "      <td>FULL_TIME</td>\n",
       "      <td>Apr</td>\n",
       "      <td>Jun</td>\n",
       "      <td>Sun</td>\n",
       "      <td>Wed</td>\n",
       "    </tr>\n",
       "    <tr>\n",
       "      <th>1</th>\n",
       "      <td>Principal Incident Response Consultant</td>\n",
       "      <td>Crypsis Group</td>\n",
       "      <td>NY</td>\n",
       "      <td>New York</td>\n",
       "      <td>-1</td>\n",
       "      <td>-1</td>\n",
       "      <td>JOB DESCRIPTIONCompany background The Crypsis ...</td>\n",
       "      <td>Information Technology</td>\n",
       "      <td>4.8</td>\n",
       "      <td>2020-04-27</td>\n",
       "      <td>2020-06-07</td>\n",
       "      <td>FULL_TIME</td>\n",
       "      <td>Apr</td>\n",
       "      <td>Jun</td>\n",
       "      <td>Sun</td>\n",
       "      <td>Mon</td>\n",
       "    </tr>\n",
       "    <tr>\n",
       "      <th>2</th>\n",
       "      <td>Lab - Medical Technologist</td>\n",
       "      <td>Cross Country Allied</td>\n",
       "      <td>NY</td>\n",
       "      <td>New York</td>\n",
       "      <td>-1</td>\n",
       "      <td>-1</td>\n",
       "      <td>Travel Medical Technologist / MT As one of the...</td>\n",
       "      <td>Business Services</td>\n",
       "      <td>NaN</td>\n",
       "      <td>2020-05-07</td>\n",
       "      <td>2020-06-07</td>\n",
       "      <td>FULL_TIME</td>\n",
       "      <td>May</td>\n",
       "      <td>Jun</td>\n",
       "      <td>Sun</td>\n",
       "      <td>Thu</td>\n",
       "    </tr>\n",
       "    <tr>\n",
       "      <th>3</th>\n",
       "      <td>Mammography Technologist PRN</td>\n",
       "      <td>ONsite Mammography</td>\n",
       "      <td>NJ</td>\n",
       "      <td>West Orange</td>\n",
       "      <td>-1</td>\n",
       "      <td>-1</td>\n",
       "      <td>Do you want a flexible work schedule? Can you ...</td>\n",
       "      <td>NaN</td>\n",
       "      <td>5.0</td>\n",
       "      <td>2020-04-25</td>\n",
       "      <td>2020-06-07</td>\n",
       "      <td>FULL_TIME</td>\n",
       "      <td>Apr</td>\n",
       "      <td>Jun</td>\n",
       "      <td>Sun</td>\n",
       "      <td>Sat</td>\n",
       "    </tr>\n",
       "    <tr>\n",
       "      <th>4</th>\n",
       "      <td>Forward Deployed Engineer</td>\n",
       "      <td>Addepar</td>\n",
       "      <td>NY</td>\n",
       "      <td>New York</td>\n",
       "      <td>-1</td>\n",
       "      <td>-1</td>\n",
       "      <td>Addepar has the potential to make a huge swath...</td>\n",
       "      <td>Information Technology</td>\n",
       "      <td>4.3</td>\n",
       "      <td>2020-04-29</td>\n",
       "      <td>2020-06-07</td>\n",
       "      <td>FULL_TIME</td>\n",
       "      <td>Apr</td>\n",
       "      <td>Jun</td>\n",
       "      <td>Sun</td>\n",
       "      <td>Wed</td>\n",
       "    </tr>\n",
       "    <tr>\n",
       "      <th>...</th>\n",
       "      <td>...</td>\n",
       "      <td>...</td>\n",
       "      <td>...</td>\n",
       "      <td>...</td>\n",
       "      <td>...</td>\n",
       "      <td>...</td>\n",
       "      <td>...</td>\n",
       "      <td>...</td>\n",
       "      <td>...</td>\n",
       "      <td>...</td>\n",
       "      <td>...</td>\n",
       "      <td>...</td>\n",
       "      <td>...</td>\n",
       "      <td>...</td>\n",
       "      <td>...</td>\n",
       "      <td>...</td>\n",
       "    </tr>\n",
       "    <tr>\n",
       "      <th>384</th>\n",
       "      <td>Big Data Engineer with very strong AWS</td>\n",
       "      <td>youth power technosoft LLC</td>\n",
       "      <td>VA</td>\n",
       "      <td>Reston</td>\n",
       "      <td>-1</td>\n",
       "      <td>-1</td>\n",
       "      <td>Client - Fannie maeLocation- Reston, VAVisa - ...</td>\n",
       "      <td>NaN</td>\n",
       "      <td>NaN</td>\n",
       "      <td>2020-04-29</td>\n",
       "      <td>2020-06-06</td>\n",
       "      <td>FULL_TIME</td>\n",
       "      <td>Apr</td>\n",
       "      <td>Jun</td>\n",
       "      <td>Sat</td>\n",
       "      <td>Wed</td>\n",
       "    </tr>\n",
       "    <tr>\n",
       "      <th>385</th>\n",
       "      <td>BioNexus Foundation Principal Scientist, Bioin...</td>\n",
       "      <td>ATCC</td>\n",
       "      <td>MD</td>\n",
       "      <td>Gaithersburg</td>\n",
       "      <td>-1</td>\n",
       "      <td>-1</td>\n",
       "      <td>Overview Founded in 1925, ATCC is a non-profit...</td>\n",
       "      <td>NaN</td>\n",
       "      <td>1.0</td>\n",
       "      <td>2020-04-25</td>\n",
       "      <td>2020-06-06</td>\n",
       "      <td>FULL_TIME</td>\n",
       "      <td>Apr</td>\n",
       "      <td>Jun</td>\n",
       "      <td>Sat</td>\n",
       "      <td>Sat</td>\n",
       "    </tr>\n",
       "    <tr>\n",
       "      <th>386</th>\n",
       "      <td>Data Engineer with Security Clearance</td>\n",
       "      <td>GeoLogics Corporation</td>\n",
       "      <td>VA</td>\n",
       "      <td>Chantilly</td>\n",
       "      <td>-1</td>\n",
       "      <td>-1</td>\n",
       "      <td>Job Description Employment Type: Direct Hire J...</td>\n",
       "      <td>Business Services</td>\n",
       "      <td>4.2</td>\n",
       "      <td>2020-04-24</td>\n",
       "      <td>2020-06-06</td>\n",
       "      <td>FULL_TIME</td>\n",
       "      <td>Apr</td>\n",
       "      <td>Jun</td>\n",
       "      <td>Sat</td>\n",
       "      <td>Fri</td>\n",
       "    </tr>\n",
       "    <tr>\n",
       "      <th>387</th>\n",
       "      <td>Lead Data Engineer</td>\n",
       "      <td>LTE Networks</td>\n",
       "      <td>VA</td>\n",
       "      <td>Chantilly</td>\n",
       "      <td>-1</td>\n",
       "      <td>-1</td>\n",
       "      <td>Lead Data Engineer (GDMS) engineers a diverse ...</td>\n",
       "      <td>NaN</td>\n",
       "      <td>NaN</td>\n",
       "      <td>2020-05-01</td>\n",
       "      <td>2020-06-06</td>\n",
       "      <td>FULL_TIME</td>\n",
       "      <td>May</td>\n",
       "      <td>Jun</td>\n",
       "      <td>Sat</td>\n",
       "      <td>Fri</td>\n",
       "    </tr>\n",
       "    <tr>\n",
       "      <th>388</th>\n",
       "      <td>Sr. Big Data Engineer</td>\n",
       "      <td>Morph Enterprise LLC</td>\n",
       "      <td>VA</td>\n",
       "      <td>Chantilly</td>\n",
       "      <td>-1</td>\n",
       "      <td>-1</td>\n",
       "      <td>Job Description: Developing mission-critical s...</td>\n",
       "      <td>NaN</td>\n",
       "      <td>NaN</td>\n",
       "      <td>2020-04-30</td>\n",
       "      <td>2020-06-06</td>\n",
       "      <td>FULL_TIME</td>\n",
       "      <td>Apr</td>\n",
       "      <td>Jun</td>\n",
       "      <td>Sat</td>\n",
       "      <td>Thu</td>\n",
       "    </tr>\n",
       "  </tbody>\n",
       "</table>\n",
       "<p>389 rows × 16 columns</p>\n",
       "</div>"
      ],
      "text/plain": [
       "                                             Job_title  \\\n",
       "0                                              Plumber   \n",
       "1               Principal Incident Response Consultant   \n",
       "2                           Lab - Medical Technologist   \n",
       "3                         Mammography Technologist PRN   \n",
       "4                            Forward Deployed Engineer   \n",
       "..                                                 ...   \n",
       "384             Big Data Engineer with very strong AWS   \n",
       "385  BioNexus Foundation Principal Scientist, Bioin...   \n",
       "386              Data Engineer with Security Clearance   \n",
       "387                                 Lead Data Engineer   \n",
       "388                              Sr. Big Data Engineer   \n",
       "\n",
       "                        Company State          City  Min_Salary  Max_Salary  \\\n",
       "0        Plumbing for life Inc.    NY      New York          -1          -1   \n",
       "1                 Crypsis Group    NY      New York          -1          -1   \n",
       "2          Cross Country Allied    NY      New York          -1          -1   \n",
       "3            ONsite Mammography    NJ   West Orange          -1          -1   \n",
       "4                       Addepar    NY      New York          -1          -1   \n",
       "..                          ...   ...           ...         ...         ...   \n",
       "384  youth power technosoft LLC    VA        Reston          -1          -1   \n",
       "385                        ATCC    MD  Gaithersburg          -1          -1   \n",
       "386       GeoLogics Corporation    VA     Chantilly          -1          -1   \n",
       "387                LTE Networks    VA     Chantilly          -1          -1   \n",
       "388        Morph Enterprise LLC    VA     Chantilly          -1          -1   \n",
       "\n",
       "                                              Job_Desc  \\\n",
       "0    Established plumbing company looking for a Plu...   \n",
       "1    JOB DESCRIPTIONCompany background The Crypsis ...   \n",
       "2    Travel Medical Technologist / MT As one of the...   \n",
       "3    Do you want a flexible work schedule? Can you ...   \n",
       "4    Addepar has the potential to make a huge swath...   \n",
       "..                                                 ...   \n",
       "384  Client - Fannie maeLocation- Reston, VAVisa - ...   \n",
       "385  Overview Founded in 1925, ATCC is a non-profit...   \n",
       "386  Job Description Employment Type: Direct Hire J...   \n",
       "387  Lead Data Engineer (GDMS) engineers a diverse ...   \n",
       "388  Job Description: Developing mission-critical s...   \n",
       "\n",
       "                   Industry  Rating Date_Posted Valid_until   Job_Type Month  \\\n",
       "0                       NaN     NaN  2020-04-29  2020-06-07  FULL_TIME   Apr   \n",
       "1    Information Technology     4.8  2020-04-27  2020-06-07  FULL_TIME   Apr   \n",
       "2         Business Services     NaN  2020-05-07  2020-06-07  FULL_TIME   May   \n",
       "3                       NaN     5.0  2020-04-25  2020-06-07  FULL_TIME   Apr   \n",
       "4    Information Technology     4.3  2020-04-29  2020-06-07  FULL_TIME   Apr   \n",
       "..                      ...     ...         ...         ...        ...   ...   \n",
       "384                     NaN     NaN  2020-04-29  2020-06-06  FULL_TIME   Apr   \n",
       "385                     NaN     1.0  2020-04-25  2020-06-06  FULL_TIME   Apr   \n",
       "386       Business Services     4.2  2020-04-24  2020-06-06  FULL_TIME   Apr   \n",
       "387                     NaN     NaN  2020-05-01  2020-06-06  FULL_TIME   May   \n",
       "388                     NaN     NaN  2020-04-30  2020-06-06  FULL_TIME   Apr   \n",
       "\n",
       "    Valid_Month V_Day  Day  \n",
       "0           Jun   Sun  Wed  \n",
       "1           Jun   Sun  Mon  \n",
       "2           Jun   Sun  Thu  \n",
       "3           Jun   Sun  Sat  \n",
       "4           Jun   Sun  Wed  \n",
       "..          ...   ...  ...  \n",
       "384         Jun   Sat  Wed  \n",
       "385         Jun   Sat  Sat  \n",
       "386         Jun   Sat  Fri  \n",
       "387         Jun   Sat  Fri  \n",
       "388         Jun   Sat  Thu  \n",
       "\n",
       "[389 rows x 16 columns]"
      ]
     },
     "execution_count": 53,
     "metadata": {},
     "output_type": "execute_result"
    }
   ],
   "source": [
    "#for i in range(len(index_missing)):\n",
    "    #test_df.drop(index_missing[i], axis=0, inplace=True)\n",
    "test_df"
   ]
  },
  {
   "cell_type": "markdown",
   "metadata": {},
   "source": [
    "# Working with Duplicates\n",
    "Sometimes in your dataset because it is scraped from the web, there may be duplicates\n",
    "You'll need to check for these duplicates because it will impace your data analysis"
   ]
  },
  {
   "cell_type": "code",
   "execution_count": 54,
   "metadata": {
    "_kg_hide-input": true,
    "cell_id": "05f30f12-33e9-476d-bcc0-67ebf2620207",
    "tags": []
   },
   "outputs": [],
   "source": [
    "#Check for duplicates in the data becasue our scraper was not perfect and could have scraped multiple entries\n",
    "cols = [col for col in all_df.columns if col not in ['Day' , 'Month']]\n",
    "\n",
    "#For training data \n",
    "train_series = all_df.duplicated(cols , keep = 'first')\n",
    "data_df      = all_df[~train_series].reset_index(drop = True)\n",
    "test_series  = test_df.duplicated(cols , keep = 'first')\n",
    "test_df      = test_df[~test_series].reset_index(drop = True)"
   ]
  },
  {
   "cell_type": "markdown",
   "metadata": {},
   "source": [
    "# Looking for Unique Values in your Dataframe\n",
    "Sometiems you'll need to look for unique values in your dataframe \n",
    "Use the `unique` function to do this\n",
    "Follows this format `df['COL_NAME'].unique()` where df is the dataframe and COL_NAME is the column name in the dataframe"
   ]
  },
  {
   "cell_type": "code",
   "execution_count": 55,
   "metadata": {
    "_kg_hide-input": true,
    "cell_id": "c82dc428-161a-48f0-9d1c-e9f957598ad7",
    "tags": []
   },
   "outputs": [
    {
     "name": "stdout",
     "output_type": "stream",
     "text": [
      "['NY' 'NJ' 'CA' 'TX' 'Texas' 'VA' 'MD' 'DC' nan]\n"
     ]
    }
   ],
   "source": [
    "# Find the Unique States\n",
    "print(all_df['State'].unique())"
   ]
  },
  {
   "cell_type": "markdown",
   "metadata": {},
   "source": [
    "## Q12. Write the code to count the number of unique States from the previous operation. Name the variable num_states and print it"
   ]
  },
  {
   "cell_type": "code",
   "execution_count": 56,
   "metadata": {},
   "outputs": [
    {
     "data": {
      "text/plain": [
       "9"
      ]
     },
     "execution_count": 56,
     "metadata": {},
     "output_type": "execute_result"
    }
   ],
   "source": [
    "len(all_df['State'].unique())"
   ]
  },
  {
   "cell_type": "code",
   "execution_count": 57,
   "metadata": {
    "_kg_hide-input": true,
    "cell_id": "c7241844-5914-4c55-b335-12ed126b16ad",
    "tags": []
   },
   "outputs": [
    {
     "name": "stdout",
     "output_type": "stream",
     "text": [
      "State of NY\n",
      "New York         420\n",
      "Rego Park         60\n",
      "Brooklyn          60\n",
      "Staten Island     60\n",
      "Lynbrook          30\n",
      "Name: City, dtype: int64\n",
      "State of NJ\n",
      "Paramus          30\n",
      "Jersey City      30\n",
      "West New York    30\n",
      "Fort Lee         30\n",
      "West Orange      30\n",
      "Name: City, dtype: int64\n",
      "State of CA\n",
      "San Francisco          435\n",
      "South San Francisco    169\n",
      "Menlo Park              40\n",
      "San Mateo               33\n",
      "Berkeley                31\n",
      "Name: City, dtype: int64\n",
      "State of TX\n",
      "Austin         175\n",
      "Dallas         102\n",
      "Houston         90\n",
      "Irving          58\n",
      "San Antonio     53\n",
      "Name: City, dtype: int64\n",
      "State of Texas\n",
      "Series([], Name: City, dtype: int64)\n",
      "State of VA\n",
      "Arlington      96\n",
      "McLean         60\n",
      "Springfield    58\n",
      "Chantilly      54\n",
      "Alexandria     46\n",
      "Name: City, dtype: int64\n",
      "State of MD\n",
      "Gaithersburg     49\n",
      "Rockville        48\n",
      "Silver Spring    31\n",
      "Bethesda         29\n",
      "College Park     28\n",
      "Name: City, dtype: int64\n",
      "State of DC\n",
      "Washington    194\n",
      "Name: City, dtype: int64\n",
      "State of nan\n",
      "Series([], Name: City, dtype: int64)\n"
     ]
    }
   ],
   "source": [
    "#Let's explore the top 5 cites in which most job lisitngs are there\n",
    "for state in all_df['State'].unique():\n",
    "    print(f\"State of {state}\")\n",
    "    print(all_df[all_df['State'] == state]['City'].value_counts()[:5])"
   ]
  },
  {
   "cell_type": "markdown",
   "metadata": {},
   "source": [
    "## Q13. What city has the most job openings? Write your answer below\n",
    "\n",
    "WRITE ANSWER HERE:\n",
    "\n",
    "* San Fransico has the most job openings"
   ]
  },
  {
   "cell_type": "markdown",
   "metadata": {},
   "source": [
    "## Q14. What city has the least job openings? What states do they occur in?\n",
    "\n",
    "WRITE YOUR ANSWER HERE\n",
    "* Releigh, Chennai, Florence has the least job openings. They occur in the states of NC, TN, KY"
   ]
  },
  {
   "cell_type": "markdown",
   "metadata": {},
   "source": [
    "# Identifying and Removing Outliers\n",
    "In some cases you'll have outliers in your data. \n",
    "An `outlier` is an observation that lies an abnormal distance from other values in a random sample from a population. \n",
    "Sometimes negative numbers, zero, or really large numbers can be outliers in your sample population\n",
    "\n",
    "See your textbook Sampling from a Population https://www.inferentialthinking.com/chapters/10/2/Sampling_from_a_Population.html"
   ]
  },
  {
   "cell_type": "code",
   "execution_count": 58,
   "metadata": {},
   "outputs": [],
   "source": [
    "# Dropping the states with only one\n",
    "# Saving this data for later\n",
    "index_outlier = all_df[(all_df['State'] =='NC') | (all_df['State'] =='TN') | (all_df['State'] =='KY')].index\n",
    "all_df.drop(index_outlier , inplace = True)"
   ]
  },
  {
   "cell_type": "markdown",
   "metadata": {
    "cell_id": "62149f95-3267-4876-b625-3f56011562d0",
    "tags": []
   },
   "source": [
    "# Visualizing the Data with pie charts\n",
    "The below code shows how to make a pie chart for the CA"
   ]
  },
  {
   "cell_type": "code",
   "execution_count": 59,
   "metadata": {
    "_kg_hide-input": true,
    "cell_id": "10f7b273-f2e8-4efc-b77a-670bc1d61505",
    "tags": []
   },
   "outputs": [
    {
     "data": {
      "image/png": "[encoded data removed]",
      "text/plain": [
       "<Figure size 432x288 with 1 Axes>"
      ]
     },
     "metadata": {},
     "output_type": "display_data"
    }
   ],
   "source": [
    "#Create a Pie Chart of CA and TX\n",
    "\n",
    "max_state = ['CA' ]\n",
    "for i,state in enumerate(max_state,1):\n",
    "    cities = all_df[all_df['State'] == state]['City'].value_counts()[:5].index.to_list()\n",
    "    counts = all_df[all_df[\"State\"] == state]['City'].value_counts()[:5].to_list()\n",
    "\n",
    "my_colors  = ['lightgray','lightblue','crimson', 'beige', 'yellow']\n",
    "my_explode = (0, 0.1, 0)\n",
    "\n",
    "plt.pie(counts,labels=cities,autopct='%1.1f%%',startangle=15, shadow = True, colors=my_colors)\n",
    "plt.title('California GlassDoor Cities')\n",
    "plt.axis('equal')\n",
    "plt.show()   "
   ]
  },
  {
   "cell_type": "markdown",
   "metadata": {},
   "source": [
    "## Q15. Write the code to create a pie chart for TX. \n",
    "\n",
    "Add a title to your pie chart"
   ]
  },
  {
   "cell_type": "code",
   "execution_count": 60,
   "metadata": {
    "_kg_hide-input": true,
    "cell_id": "4bc3c3b4-0926-4085-a064-5495faabaafc",
    "tags": []
   },
   "outputs": [
    {
     "data": {
      "image/png": "[encoded data removed]",
      "text/plain": [
       "<Figure size 432x288 with 1 Axes>"
      ]
     },
     "metadata": {},
     "output_type": "display_data"
    }
   ],
   "source": [
    "# Write code to create pie chart \n",
    "max_state = ['TX' ]\n",
    "for i,state in enumerate(max_state,1):\n",
    "    cities = all_df[all_df['State'] == state]['City'].value_counts()[:5].index.to_list()\n",
    "    counts = all_df[all_df[\"State\"] == state]['City'].value_counts()[:5].to_list()\n",
    "\n",
    "my_colors  = ['lightblue','lightsteelblue','silver', 'lightgrey', 'crimson']\n",
    "my_explode = (0, 0.1, 0)\n",
    "\n",
    "plt.pie(counts,labels=cities,autopct='%1.1f%%',startangle=15, shadow = True, colors=my_colors)\n",
    "plt.title('Texas GlassDoor Cities')\n",
    "plt.axis('equal')\n",
    "plt.show() "
   ]
  },
  {
   "cell_type": "markdown",
   "metadata": {},
   "source": [
    "# Using the Groupby functionality\n",
    "A groupby operation involves some combination of splitting the object, \n",
    "applying a function, and combining the results. \n",
    "\n",
    "This can be used to group large amounts of data and compute operations on these groups.\n",
    "\n",
    "This is shown in the example below"
   ]
  },
  {
   "cell_type": "code",
   "execution_count": 61,
   "metadata": {
    "_kg_hide-input": true,
    "cell_id": "c039b142-8093-4ee0-920e-1ac38019eae8",
    "tags": []
   },
   "outputs": [
    {
     "data": {
      "text/plain": [
       "State\n",
       "CA      -1\n",
       "DC      -1\n",
       "MD      -1\n",
       "NJ      -1\n",
       "NY      -1\n",
       "TX      -1\n",
       "Texas   -1\n",
       "VA      -1\n",
       "Name: Min_Salary, dtype: int64"
      ]
     },
     "execution_count": 61,
     "metadata": {},
     "output_type": "execute_result"
    }
   ],
   "source": [
    "#Calculate the minimal salary for the states \n",
    "states = all_df['State'].unique().tolist()\n",
    "\n",
    "min_sal =  all_df.groupby('State')['Min_Salary']\n",
    "max_sal =  all_df.groupby('State')['Max_Salary']\n",
    "\n",
    "min_sal.min()\n"
   ]
  },
  {
   "cell_type": "markdown",
   "metadata": {},
   "source": [
    "## Q16. Use the groupby function to find the minimal salary for all companies\n",
    "Print this information"
   ]
  },
  {
   "cell_type": "code",
   "execution_count": 62,
   "metadata": {},
   "outputs": [
    {
     "data": {
      "text/plain": [
       "Company\n",
       "159 Solutions, Inc.           1\n",
       "1884794                       1\n",
       "1901 Group                    1\n",
       "1Point Solutions Inc          1\n",
       "22nd Century Technologies     2\n",
       "                             ..\n",
       "tekwissen                     1\n",
       "vidIQ                         1\n",
       "youth power technosoft LLC    1\n",
       "Øptimus                       1\n",
       "Øptimus Consulting            2\n",
       "Name: Min_Salary, Length: 1338, dtype: int64"
      ]
     },
     "execution_count": 62,
     "metadata": {},
     "output_type": "execute_result"
    }
   ],
   "source": [
    "companies = all_df.groupby('Company')['Min_Salary'].apply(np.count_nonzero)\n",
    "companies"
   ]
  },
  {
   "cell_type": "markdown",
   "metadata": {
    "cell_id": "f438a547-c093-4935-a5ef-edd1d4fe86e5",
    "tags": []
   },
   "source": [
    "## Extracting Features out of Job Description "
   ]
  },
  {
   "cell_type": "code",
   "execution_count": 63,
   "metadata": {
    "_kg_hide-input": true,
    "cell_id": "c762fb3d-281a-4141-823c-b11bac56f931",
    "tags": []
   },
   "outputs": [
    {
     "name": "stdout",
     "output_type": "stream",
     "text": [
      "Who We're Looking For: The Chief Marketing Officer (CMO) is an exempt, executive position, responsible for all marketing operations of the company including lead acquisition, sales enablement, communications, retention, and brand development. This executive leads a team of enthusiastic, analytical, and passionate marketing professionals to develop, execute, and optimize the marketing strategy. We are looking for someone with a history of brand development and proven ability to accelerate company growth leveraging the latest marketing strategies and technologies. This role goes beyond traditional marketing tactics to generate awareness, educate the consumer on the viability of our service, and in turn drive the consumer to take action and engage the brand. Principal Duties and Responsibilities: Lead the full marketing strategy and have accountability over development, execution, and optimization across all channels including paid and organic search, display, email, social, TV, radio, direct mail, and affiliate marketing. Communicate with the leadership team and key stakeholders to execute lead generation, sales enablement, and retention-based marketing campaigns that align with and deliver against business goals. Develop and execute social media, content, and communication strategies to further our public relations and community engagement. Identify, forge, and grow strategic marketing partnerships. Build a highly efficient and capable team of marketing professionals. Define the competitive marketplace and evolve our brand awareness through strategy development and brand building tactics. Lead research and development into new marketing tactics and strategies while improving current systems. Establish key metrics and manage goals while leading the improvement of our pipeline for sales. Establish framework for all marketing activity, tracking results and reporting progress with management. Develop segmentation, competitive analysis, market intelligence, salesforce effectiveness, strategic planning and revenue retention and growth. Qualifications: A completed BS degree in Business, Marketing, Advertising or other related discipline. Minimum experience required 10+ years of professional experience in a leadership marketing role. Experience building and executing brand awareness and public relations campaigns. Experience in a fast-growing company with a track record of delivering big results. Highly proficient and effective communication skills Ability to utilize data analytics to deliver insight and identify opportunities for growth. A strong record of developing successful, innovative and cost-effective marketing campaigns. Punctual and ready to report to work on a consistent basis. Travel up to 25 percent of the time. Excel in a fast-paced environment. What We Offer: A team-first, work hard play hard culture, full of rewards and recognition for our employees. We are dedicated to our employees' success and growth. Our extensive benefits package includes:  Generous Medical, Dental, and Vision Benefits 401(k) with Company Match Paid Holidays, Volunteer Time Off, Sick Days, and Vacation 10 weeks Paid Parental Leave Pre-tax Transit Benefits Discounted Gym Membership Citi Bike Annual Membership Discounts No-Cost Life Insurance Benefits Voluntary Benefits Options ASPCA Pet Health Insurance Discount About National Debt Relief: National Debt Relief is one of the country's largest and most reputable debt settlement companies. We are made up of energetic, smart, and compassionate individuals who are passionate about helping thousands of Americans with debt relief. Most importantly, we're all about helping our customers through a tough financial time in their lives with education and individual customer service. We are dedicated to helping individuals and families rid their lives of burdensome debt. We specialize in debt settlement and have negotiated settlements for thousands of creditor and collections accounts. We provide our clients with both our expertise and our proven results. This means helping consumers in their time of hardship to get out of debt with the least possible cost. It can also mean conducting financial consultations, educating the consumer, and recommending the appropriate solution. Our core services offer debt settlement as an alternative to bankruptcy, credit counseling, and debt consolidation. We become our clients' number one advocate to help them reestablish financial stability as quickly as possible. National Debt Relief is a certified Great Place to Work®! National Debt Relief is an equal opportunity employer and makes employment decisions without regard to race, color, religion, sex, sexual orientation, gender identity, national origin, protected veteran status, disability status, or any other status protected by law #ZR\n"
     ]
    }
   ],
   "source": [
    "#Let's look at  how the job description actually looks\n",
    "x = all_df.Job_Desc[0].replace('\\n\\n' , '\\n')\n",
    "x = x.split('\\n')\n",
    "\n",
    "print(*x , sep = '\\n')"
   ]
  },
  {
   "cell_type": "markdown",
   "metadata": {
    "cell_id": "d9074848-e4f7-42c6-aaf4-595b712909ea",
    "tags": []
   },
   "source": [
    "## Q17. What are some observations that you noticed about the job description column. What's the format or structure of the job description\n",
    "\n",
    "WRITE ANSWERE HERE:\n",
    "The job desciption column is a combination of paragraphs, phrases, and list for each cell. \n",
    "\n",
    "    \n",
    "    \n",
    "    \n",
    "# Cleaning up HTML Artifiacts \n",
    "Sometimes you will need to clean up the data\n",
    "Use the regular expression library to do that\n",
    "Use the `replace` function"
   ]
  },
  {
   "cell_type": "code",
   "execution_count": 80,
   "metadata": {
    "_kg_hide-input": true,
    "cell_id": "e465590a-695d-4905-bd2d-b96ad02278cf",
    "tags": []
   },
   "outputs": [
    {
     "ename": "ModuleNotFoundError",
     "evalue": "No module named 'gensim'",
     "output_type": "error",
     "traceback": [
      "\u001b[0;31m---------------------------------------------------------------------------\u001b[0m",
      "\u001b[0;31mModuleNotFoundError\u001b[0m                       Traceback (most recent call last)",
      "\u001b[0;32m<ipython-input-80-c5f099fab3a1>\u001b[0m in \u001b[0;36m<module>\u001b[0;34m\u001b[0m\n\u001b[1;32m      7\u001b[0m \u001b[0;31m#Let's remove punctuation and Stopwords\u001b[0m\u001b[0;34m\u001b[0m\u001b[0;34m\u001b[0m\u001b[0;34m\u001b[0m\u001b[0m\n\u001b[1;32m      8\u001b[0m \u001b[0;34m\u001b[0m\u001b[0m\n\u001b[0;32m----> 9\u001b[0;31m \u001b[0;32mfrom\u001b[0m \u001b[0mgensim\u001b[0m\u001b[0;34m.\u001b[0m\u001b[0mparsing\u001b[0m\u001b[0;34m.\u001b[0m\u001b[0mpreprocessing\u001b[0m \u001b[0;32mimport\u001b[0m \u001b[0mremove_stopwords\u001b[0m\u001b[0;34m\u001b[0m\u001b[0;34m\u001b[0m\u001b[0m\n\u001b[0m\u001b[1;32m     10\u001b[0m \u001b[0;32mdef\u001b[0m \u001b[0mRemove_puncutations_stopwords\u001b[0m\u001b[0;34m(\u001b[0m\u001b[0ms\u001b[0m\u001b[0;34m)\u001b[0m\u001b[0;34m:\u001b[0m\u001b[0;34m\u001b[0m\u001b[0;34m\u001b[0m\u001b[0m\n\u001b[1;32m     11\u001b[0m \u001b[0;34m\u001b[0m\u001b[0m\n",
      "\u001b[0;31mModuleNotFoundError\u001b[0m: No module named 'gensim'"
     ]
    }
   ],
   "source": [
    "#Let's clean up the \\n and remove punction marks\n",
    "all_df['Job_Desc'] = all_df['Job_Desc'].replace('\\n\\n' , \" \" , regex = True)\n",
    "all_df['Job_Desc'] = all_df['Job_Desc'].replace('\\n' , \" \" , regex = True)\n",
    "\n",
    "test_df['Job_Desc'] = test_df['Job_Desc'].replace('\\n\\n' , \" \" , regex = True)\n",
    "test_df['Job_Desc'] = test_df['Job_Desc'].replace('\\n' , \" \" , regex = True)\n",
    "#Let's remove punctuation and Stopwords\n",
    "\n",
    "from gensim.parsing.preprocessing import remove_stopwords\n",
    "def Remove_puncutations_stopwords(s):\n",
    "\n",
    "    s = ''.join([i for i in s if i not in string.punctuation])\n",
    "    s = remove_stopwords(s)\n",
    "    return s\n",
    "\n",
    "data_df['Job_Desc'] = data_df['Job_Desc'].apply(lambda x : Remove_puncutations_stopwords(x))\n",
    "\n",
    "data_df['Job_Desc'][2]\n",
    "#test_df['Job_Desc'] = test_df['Job_Desc'].apply(lambda x : Remove_puncutations_stopwords(x))"
   ]
  },
  {
   "cell_type": "code",
   "execution_count": 82,
   "metadata": {},
   "outputs": [],
   "source": [
    "# Saving Data\n",
    "#After you worked with some data sometimes you'll need to save it to work with later"
   ]
  },
  {
   "cell_type": "code",
   "execution_count": 83,
   "metadata": {},
   "outputs": [],
   "source": [
    "all_df.to_csv(\"all_data.csv\" , index = False)"
   ]
  },
  {
   "cell_type": "code",
   "execution_count": null,
   "metadata": {},
   "outputs": [],
   "source": []
  }
 ],
 "metadata": {
  "kernelspec": {
   "display_name": "Python 3",
   "language": "python",
   "name": "python3"
  },
  "language_info": {
   "codemirror_mode": {
    "name": "ipython",
    "version": 3
   },
   "file_extension": ".py",
   "mimetype": "text/x-python",
   "name": "python",
   "nbconvert_exporter": "python",
   "pygments_lexer": "ipython3",
   "version": "3.8.6"
  }
 },
 "nbformat": 4,
 "nbformat_minor": 4
}
